{
  "nbformat": 4,
  "nbformat_minor": 0,
  "metadata": {
    "colab": {
      "provenance": []
    },
    "kernelspec": {
      "name": "python3",
      "display_name": "Python 3"
    },
    "language_info": {
      "name": "python"
    }
  },
  "cells": [
    {
      "cell_type": "code",
      "execution_count": 1,
      "metadata": {
        "colab": {
          "base_uri": "https://localhost:8080/"
        },
        "id": "P2gI4hSE1WaH",
        "outputId": "37c5a440-2d98-4e05-89cd-5c82eb60e954"
      },
      "outputs": [
        {
          "output_type": "stream",
          "name": "stdout",
          "text": [
            "Enter first value15\n",
            "Enter second value90\n",
            "Result:- 1350\n"
          ]
        }
      ],
      "source": [
        "a = int(input(\"Enter first value\"))\n",
        "b = int(input(\"Enter second value\"))\n",
        "c = a*b\n",
        "print(\"Result:-\",+c)"
      ]
    }
  ]
}